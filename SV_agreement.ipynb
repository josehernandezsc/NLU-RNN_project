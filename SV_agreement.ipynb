{
 "cells": [
  {
   "cell_type": "code",
   "execution_count": null,
   "metadata": {},
   "outputs": [],
   "source": [
    "import keras\n",
    "import pandas as pd\n",
    "import os\n",
    "import gc\n",
    "import sys\n",
    "import time\n",
    "from sys import stdout\n",
    "from rnnmath import *\n",
    "from utils import *\n",
    "from keras.preprocessing.sequence import pad_sequences\n",
    "import tensorflow as tf\n",
    "\n",
    "from numpy.random import seed\n",
    "seed(40)\n",
    "tf.random.set_seed(40)"
   ]
  },
  {
   "cell_type": "code",
   "execution_count": 2,
   "metadata": {},
   "outputs": [],
   "source": [
    "# Loads verb dataset extracting its subject index\n",
    "\n",
    "def load_verb_dataset(fname):\n",
    "    subj = []\n",
    "    cnt = 0\n",
    "    with open(fname) as f:\n",
    "        for line in f:\n",
    "            if cnt == 0:\n",
    "                cnt += 1\n",
    "                continue\n",
    "            items = line.strip().split('\\t')\n",
    "            verb_idx = int(items[1])\n",
    "            \n",
    "            subj.append(verb_idx)\n",
    "    return subj"
   ]
  },
  {
   "cell_type": "code",
   "execution_count": 3,
   "metadata": {},
   "outputs": [],
   "source": [
    "# Define model hyperparameters:\n",
    "vocab_size = 1000\n",
    "train_size = 25000\n",
    "dev_size = 5000\n",
    "vocab = pd.read_table(\"/afs/inf.ed.ac.uk/user/s22/s2209091/nlu/data/vocab.wiki.txt\", header=None, sep=\"\\s+\", index_col=0, names=['count', 'freq'], )\n",
    "num_to_word = dict(enumerate(vocab.index[:vocab_size]))\n",
    "word_to_num = invert_dict(num_to_word)"
   ]
  },
  {
   "cell_type": "code",
   "execution_count": 4,
   "metadata": {},
   "outputs": [],
   "source": [
    "# Load training sentences, define X_train and Y_train:\n",
    "sents = load_np_dataset('/afs/inf.ed.ac.uk/user/s22/s2209091/nlu/data/wiki-train.txt')\n",
    "S_train = docs_to_indices(sents, word_to_num, 0, 0)\n",
    "X_train, D_train = seqs_to_npXY(S_train)\n",
    "X_train = X_train[:train_size]\n",
    "Y_train = D_train[:train_size]"
   ]
  },
  {
   "cell_type": "code",
   "execution_count": 5,
   "metadata": {},
   "outputs": [],
   "source": [
    "# Load validation sentences, define X_train and Y_train:\n",
    "sents = load_np_dataset('/afs/inf.ed.ac.uk/user/s22/s2209091/nlu/data/wiki-dev.txt')\n",
    "S_dev = docs_to_indices(sents, word_to_num, 0, 0)\n",
    "X_dev, D_dev = seqs_to_npXY(S_dev)\n",
    "X_dev = X_dev[:dev_size]\n",
    "Y_dev = D_dev[:dev_size]"
   ]
  },
  {
   "cell_type": "code",
   "execution_count": 6,
   "metadata": {},
   "outputs": [],
   "source": [
    "# returns longest sentence length to do zero-padding\n",
    "ant=0\n",
    "for i in X_train:\n",
    "    if len(i)> ant:\n",
    "        ant=len(i)"
   ]
  },
  {
   "cell_type": "code",
   "execution_count": 7,
   "metadata": {},
   "outputs": [],
   "source": [
    "# Do padding\n",
    "max_length = ant\n",
    "padded_X = pad_sequences(X_train, maxlen=max_length, padding='post')\n",
    "padded_X_dev = pad_sequences(X_dev, maxlen=max_length, padding='post')"
   ]
  },
  {
   "cell_type": "code",
   "execution_count": 8,
   "metadata": {},
   "outputs": [
    {
     "name": "stderr",
     "output_type": "stream",
     "text": [
      "2022-02-16 10:36:48.200637: I tensorflow/core/platform/cpu_feature_guard.cc:145] This TensorFlow binary is optimized with Intel(R) MKL-DNN to use the following CPU instructions in performance critical operations:  SSE4.1 SSE4.2 AVX AVX2 FMA\n",
      "To enable them in non-MKL-DNN operations, rebuild TensorFlow with the appropriate compiler flags.\n",
      "2022-02-16 10:36:48.455139: I tensorflow/core/platform/profile_utils/cpu_utils.cc:94] CPU Frequency: 3199980000 Hz\n",
      "2022-02-16 10:36:48.455698: I tensorflow/compiler/xla/service/service.cc:168] XLA service 0x55a2d10ddbe0 executing computations on platform Host. Devices:\n",
      "2022-02-16 10:36:48.455737: I tensorflow/compiler/xla/service/service.cc:175]   StreamExecutor device (0): Host, Default Version\n",
      "2022-02-16 10:36:48.456378: I tensorflow/core/common_runtime/process_util.cc:115] Creating new thread pool with default inter op setting: 2. Tune using inter_op_parallelism_threads for best performance.\n",
      "Model: \"sequential_1\"\n",
      "_________________________________________________________________\n",
      "Layer (type)                 Output Shape              Param #   \n",
      "=================================================================\n",
      "embedding_1 (Embedding)      (None, 46, 64)            64000     \n",
      "_________________________________________________________________\n",
      "rnn (SimpleRNN)              (None, 46, 1)             66        \n",
      "_________________________________________________________________\n",
      "flatten_1 (Flatten)          (None, 46)                0         \n",
      "_________________________________________________________________\n",
      "dense_1 (Dense)              (None, 1)                 47        \n",
      "=================================================================\n",
      "Total params: 64,113\n",
      "Trainable params: 64,113\n",
      "Non-trainable params: 0\n",
      "_________________________________________________________________\n"
     ]
    }
   ],
   "source": [
    "# Define RNN + final sigmoid layer in Keras\n",
    "model = keras.Sequential()\n",
    "model.add(keras.layers.Embedding(vocab_size, 64, input_length=ant))\n",
    "model.add(keras.layers.SimpleRNN(1,return_sequences=True,name='rnn'))\n",
    "model.add(keras.layers.Flatten())\n",
    "model.add(keras.layers.Dense(1,activation='sigmoid'))\n",
    "model.compile('adam', 'binary_crossentropy',metrics=['accuracy'])\n",
    "model.summary()"
   ]
  },
  {
   "cell_type": "code",
   "execution_count": 9,
   "metadata": {
    "tags": []
   },
   "outputs": [
    {
     "name": "stdout",
     "output_type": "stream",
     "text": [
      "Train on 25000 samples, validate on 1000 samples\n",
      "Epoch 1/10\n",
      "25000/25000 [==============================] - 23s 909us/step - loss: 0.4228 - accuracy: 0.8149 - val_loss: 0.3900 - val_accuracy: 0.8290\n",
      "Epoch 2/10\n",
      "25000/25000 [==============================] - 19s 754us/step - loss: 0.3630 - accuracy: 0.8524 - val_loss: 0.3736 - val_accuracy: 0.8500\n",
      "Epoch 3/10\n",
      "25000/25000 [==============================] - 18s 735us/step - loss: 0.3502 - accuracy: 0.8632 - val_loss: 0.3739 - val_accuracy: 0.8530\n",
      "Epoch 4/10\n",
      "25000/25000 [==============================] - 19s 743us/step - loss: 0.3455 - accuracy: 0.8646 - val_loss: 0.3662 - val_accuracy: 0.8520\n",
      "Epoch 5/10\n",
      "25000/25000 [==============================] - 19s 755us/step - loss: 0.3385 - accuracy: 0.8661 - val_loss: 0.3594 - val_accuracy: 0.8560\n",
      "Epoch 6/10\n",
      "25000/25000 [==============================] - 19s 742us/step - loss: 0.3341 - accuracy: 0.8724 - val_loss: 0.3629 - val_accuracy: 0.8570\n",
      "Epoch 7/10\n",
      "25000/25000 [==============================] - 18s 709us/step - loss: 0.3317 - accuracy: 0.8726 - val_loss: 0.3647 - val_accuracy: 0.8540\n",
      "Epoch 8/10\n",
      "25000/25000 [==============================] - 20s 807us/step - loss: 0.3286 - accuracy: 0.8708 - val_loss: 0.3564 - val_accuracy: 0.8560\n",
      "Epoch 9/10\n",
      "25000/25000 [==============================] - 20s 795us/step - loss: 0.3220 - accuracy: 0.8755 - val_loss: 0.3626 - val_accuracy: 0.8630\n",
      "Epoch 10/10\n",
      "25000/25000 [==============================] - 19s 753us/step - loss: 0.3197 - accuracy: 0.8763 - val_loss: 0.3557 - val_accuracy: 0.8600\n"
     ]
    }
   ],
   "source": [
    "# Train the model:\n",
    "\n",
    "mod = model.fit(padded_X, Y_train, epochs=10, verbose=1,validation_data=(padded_X_dev,Y_dev))"
   ]
  },
  {
   "cell_type": "code",
   "execution_count": 10,
   "metadata": {},
   "outputs": [],
   "source": [
    "test_size = 10000\n",
    "\n",
    "# Load Test dataset:\n",
    "\n",
    "sents = load_np_dataset('/afs/inf.ed.ac.uk/user/s22/s2209091/nlu/data/wiki-test.txt')\n",
    "S_test = docs_to_indices(sents, word_to_num, 0, 0)\n",
    "X_test, D_test = seqs_to_npXY(S_test)\n",
    "X_test = X_test[:test_size]\n",
    "Y_test = D_test[:test_size]\n",
    "\n",
    "\n",
    "padded_X_test = pad_sequences(X_test, maxlen=max_length, padding='post')"
   ]
  },
  {
   "cell_type": "code",
   "execution_count": 11,
   "metadata": {},
   "outputs": [],
   "source": [
    "# extracts activations from RNN output sequence on test set and multiplies it by the weights\n",
    "# from the last layer to get the input signal to the activation function.\n",
    "\n",
    "active_layer = keras.Model(inputs=model.input, outputs = model.layers[2].output)\n",
    "\n",
    "active_layer = active_layer.predict(padded_X_test, steps = 1) # predict_generator is deprecated\n",
    "\n",
    "w=model.layers[3].get_weights()[0].flatten()\n",
    "\n",
    "s=np.multiply(active_layer,w)\n",
    "ans=np.zeros(len(X_test))\n",
    "\n",
    "# Identifies which index from the output sequence gives the highest (for plural verbs) and lowest (for singular verbs) signal\n",
    "\n",
    "for i, sent in enumerate(X_test):\n",
    "    if D_test[i][0] == 1:\n",
    "        m=np.argmax(s[i][:len(sent)])\n",
    "    else:\n",
    "        m=np.argmin(s[i][:len(sent)])\n",
    "    ans[i]=int(m)"
   ]
  },
  {
   "cell_type": "code",
   "execution_count": 12,
   "metadata": {
    "tags": []
   },
   "outputs": [],
   "source": [
    "# Get ground truth subject indexes from test\n",
    "\n",
    "verbs = np.array(load_verb_dataset('/afs/inf.ed.ac.uk/user/s22/s2209091/nlu/data/wiki-test.txt'))"
   ]
  },
  {
   "cell_type": "code",
   "execution_count": 13,
   "metadata": {},
   "outputs": [],
   "source": [
    "# Percentage of correctly identified subjects based on strongest signals.\n",
    "\n",
    "res=(ans==verbs)\n",
    "print(np.mean(res))"
   ]
  },
  {
   "cell_type": "code",
   "execution_count": 15,
   "metadata": {},
   "outputs": [],
   "source": [
    "# Additional function to calculate top n signals and find if the subject is identified there\n",
    "\n",
    "lens=np.zeros(len(X_test))\n",
    "for i,j in enumerate(X_test):\n",
    "    lens[i]=len(j)\n",
    "\n",
    "def get_n_best(n,X_test,verbs):\n",
    "\n",
    "    ans2=np.zeros(len(X_test))\n",
    "    for i, sent in enumerate(X_test):\n",
    "        if D_test[i][0] == 1:\n",
    "            m=np.argsort(s[i][:len(sent)])[-n:] #take out colon for single index - after n\n",
    "        else:\n",
    "            m=np.argsort(s[i][:len(sent)])[:n] #take out colon for single index - before n\n",
    "        if verbs[i] in m:\n",
    "            ans2[i]=1\n",
    "    return np.mean(ans2), ans2"
   ]
  },
  {
   "cell_type": "code",
   "execution_count": 19,
   "metadata": {},
   "outputs": [
    {
     "name": "stdout",
     "output_type": "stream",
     "text": [
      "0.444\n"
     ]
    }
   ],
   "source": [
    "# subject accuracy *when first argument of get_n_best function is 1, this is the same as the subject accuracy calculation two cells above\n",
    "\n",
    "prop, subj_ind=get_n_best(1,X_test,verbs)\n",
    "print(np.mean(prop))"
   ]
  },
  {
   "cell_type": "code",
   "execution_count": 20,
   "metadata": {},
   "outputs": [],
   "source": [
    "# Predict to get model test accuracy\n",
    "predictions=(model.predict(padded_X_test)>0.5)\n",
    "corrects=(predictions==D_test)"
   ]
  },
  {
   "cell_type": "code",
   "execution_count": 21,
   "metadata": {},
   "outputs": [
    {
     "data": {
      "text/plain": [
       "0.87375"
      ]
     },
     "execution_count": 21,
     "metadata": {},
     "output_type": "execute_result"
    }
   ],
   "source": [
    "#test accuracy\n",
    "print(np.mean(corrects))"
   ]
  },
  {
   "cell_type": "code",
   "execution_count": 23,
   "metadata": {},
   "outputs": [
    {
     "name": "stdout",
     "output_type": "stream",
     "text": [
      "0.27775\n"
     ]
    }
   ],
   "source": [
    "# What if random selection of subject? Estimates subject identification by randomly selecting subject and see if by chance it manages to idenfify it correctly\n",
    "\n",
    "lens=np.zeros(len(X_test))\n",
    "for i,j in enumerate(X_test):\n",
    "    lens[i]=len(j)\n",
    "\n",
    "res_ran=np.zeros(len(verbs))\n",
    "for i,v in enumerate(lens):\n",
    "    res_ran[i]=np.random.randint(0,v)\n",
    "print(np.mean(ans==res_ran))"
   ]
  },
  {
   "cell_type": "code",
   "execution_count": 21,
   "metadata": {},
   "outputs": [
    {
     "data": {
      "image/png": "[encoded data removed]",
      "image/svg+xml": "<?xml version=\"1.0\" encoding=\"utf-8\" standalone=\"no\"?>\n<!DOCTYPE svg PUBLIC \"-//W3C//DTD SVG 1.1//EN\"\n  \"http://www.w3.org/Graphics/SVG/1.1/DTD/svg11.dtd\">\n<!-- Created with matplotlib (https://matplotlib.org/) -->\n<svg height=\"248.518125pt\" version=\"1.1\" viewBox=\"0 0 378.465625 248.518125\" width=\"378.465625pt\" xmlns=\"http://www.w3.org/2000/svg\" xmlns:xlink=\"http://www.w3.org/1999/xlink\">\n <defs>\n  <style type=\"text/css\">\n*{stroke-linecap:butt;stroke-linejoin:round;}\n  </style>\n </defs>\n <g id=\"figure_1\">\n  <g id=\"patch_1\">\n   <path d=\"M 0 248.518125 \nL 378.465625 248.518125 \nL 378.465625 0 \nL 0 0 \nz\n\" style=\"fill:none;\"/>\n  </g>\n  <g id=\"axes_1\">\n   <g id=\"patch_2\">\n    <path d=\"M 36.465625 224.64 \nL 371.265625 224.64 \nL 371.265625 7.2 \nL 36.465625 7.2 \nz\n\" style=\"fill:#ffffff;\"/>\n   </g>\n   <g id=\"patch_3\">\n    <path clip-path=\"url(#p8d3e0ac3a0)\" d=\"M 64.89118 224.64 \nL 83.421106 224.64 \nL 83.421106 100.152571 \nL 64.89118 100.152571 \nz\n\" style=\"fill:#1f77b4;opacity:0.4;\"/>\n   </g>\n   <g id=\"patch_4\">\n    <path clip-path=\"url(#p8d3e0ac3a0)\" d=\"M 83.421106 224.64 \nL 101.951032 224.64 \nL 101.951032 78.860261 \nL 83.421106 78.860261 \nz\n\" style=\"fill:#1f77b4;opacity:0.4;\"/>\n   </g>\n   <g id=\"patch_5\">\n    <path clip-path=\"url(#p8d3e0ac3a0)\" d=\"M 101.951032 224.64 \nL 120.480958 224.64 \nL 120.480958 144.188941 \nL 101.951032 144.188941 \nz\n\" style=\"fill:#1f77b4;opacity:0.4;\"/>\n   </g>\n   <g id=\"patch_6\">\n    <path clip-path=\"url(#p8d3e0ac3a0)\" d=\"M 120.480958 224.64 \nL 139.010884 224.64 \nL 139.010884 184.353981 \nL 120.480958 184.353981 \nz\n\" style=\"fill:#1f77b4;opacity:0.4;\"/>\n   </g>\n   <g id=\"patch_7\">\n    <path clip-path=\"url(#p8d3e0ac3a0)\" d=\"M 139.010884 224.64 \nL 157.54081 224.64 \nL 157.54081 195.000136 \nL 139.010884 195.000136 \nz\n\" style=\"fill:#1f77b4;opacity:0.4;\"/>\n   </g>\n   <g id=\"patch_8\">\n    <path clip-path=\"url(#p8d3e0ac3a0)\" d=\"M 157.54081 224.64 \nL 176.070736 224.64 \nL 176.070736 203.105731 \nL 157.54081 203.105731 \nz\n\" style=\"fill:#1f77b4;opacity:0.4;\"/>\n   </g>\n   <g id=\"patch_9\">\n    <path clip-path=\"url(#p8d3e0ac3a0)\" d=\"M 176.070736 224.64 \nL 194.600662 224.64 \nL 194.600662 211.211327 \nL 176.070736 211.211327 \nz\n\" style=\"fill:#1f77b4;opacity:0.4;\"/>\n   </g>\n   <g id=\"patch_10\">\n    <path clip-path=\"url(#p8d3e0ac3a0)\" d=\"M 194.600662 224.64 \nL 213.130588 224.64 \nL 213.130588 214.59874 \nL 194.600662 214.59874 \nz\n\" style=\"fill:#1f77b4;opacity:0.4;\"/>\n   </g>\n   <g id=\"patch_11\">\n    <path clip-path=\"url(#p8d3e0ac3a0)\" d=\"M 213.130588 224.64 \nL 231.660514 224.64 \nL 231.660514 217.744195 \nL 213.130588 217.744195 \nz\n\" style=\"fill:#1f77b4;opacity:0.4;\"/>\n   </g>\n   <g id=\"patch_12\">\n    <path clip-path=\"url(#p8d3e0ac3a0)\" d=\"M 231.660514 224.64 \nL 250.19044 224.64 \nL 250.19044 220.042797 \nL 231.660514 220.042797 \nz\n\" style=\"fill:#1f77b4;opacity:0.4;\"/>\n   </g>\n   <g id=\"patch_13\">\n    <path clip-path=\"url(#p8d3e0ac3a0)\" d=\"M 250.19044 224.64 \nL 268.720366 224.64 \nL 268.720366 221.857482 \nL 250.19044 221.857482 \nz\n\" style=\"fill:#1f77b4;opacity:0.4;\"/>\n   </g>\n   <g id=\"patch_14\">\n    <path clip-path=\"url(#p8d3e0ac3a0)\" d=\"M 268.720366 224.64 \nL 287.250292 224.64 \nL 287.250292 222.341398 \nL 268.720366 222.341398 \nz\n\" style=\"fill:#1f77b4;opacity:0.4;\"/>\n   </g>\n   <g id=\"patch_15\">\n    <path clip-path=\"url(#p8d3e0ac3a0)\" d=\"M 287.250292 224.64 \nL 305.780218 224.64 \nL 305.780218 223.793147 \nL 287.250292 223.793147 \nz\n\" style=\"fill:#1f77b4;opacity:0.4;\"/>\n   </g>\n   <g id=\"patch_16\">\n    <path clip-path=\"url(#p8d3e0ac3a0)\" d=\"M 305.780218 224.64 \nL 324.310144 224.64 \nL 324.310144 223.914126 \nL 305.780218 223.914126 \nz\n\" style=\"fill:#1f77b4;opacity:0.4;\"/>\n   </g>\n   <g id=\"matplotlib.axis_1\">\n    <g id=\"xtick_1\">\n     <g id=\"line2d_1\">\n      <defs>\n       <path d=\"M 0 0 \nL 0 3.5 \n\" id=\"mccf93c4d9d\" style=\"stroke:#000000;stroke-width:0.8;\"/>\n      </defs>\n      <g>\n       <use style=\"stroke:#000000;stroke-width:0.8;\" x=\"64.89118\" xlink:href=\"#mccf93c4d9d\" y=\"224.64\"/>\n      </g>\n     </g>\n     <g id=\"text_1\">\n      <!-- 0 -->\n      <defs>\n       <path d=\"M 31.78125 66.40625 \nQ 24.171875 66.40625 20.328125 58.90625 \nQ 16.5 51.421875 16.5 36.375 \nQ 16.5 21.390625 20.328125 13.890625 \nQ 24.171875 6.390625 31.78125 6.390625 \nQ 39.453125 6.390625 43.28125 13.890625 \nQ 47.125 21.390625 47.125 36.375 \nQ 47.125 51.421875 43.28125 58.90625 \nQ 39.453125 66.40625 31.78125 66.40625 \nz\nM 31.78125 74.21875 \nQ 44.046875 74.21875 50.515625 64.515625 \nQ 56.984375 54.828125 56.984375 36.375 \nQ 56.984375 17.96875 50.515625 8.265625 \nQ 44.046875 -1.421875 31.78125 -1.421875 \nQ 19.53125 -1.421875 13.0625 8.265625 \nQ 6.59375 17.96875 6.59375 36.375 \nQ 6.59375 54.828125 13.0625 64.515625 \nQ 19.53125 74.21875 31.78125 74.21875 \nz\n\" id=\"DejaVuSans-48\"/>\n      </defs>\n      <g transform=\"translate(61.70993 239.238437)scale(0.1 -0.1)\">\n       <use xlink:href=\"#DejaVuSans-48\"/>\n      </g>\n     </g>\n    </g>\n    <g id=\"xtick_2\">\n     <g id=\"line2d_2\">\n      <g>\n       <use style=\"stroke:#000000;stroke-width:0.8;\" x=\"126.6576\" xlink:href=\"#mccf93c4d9d\" y=\"224.64\"/>\n      </g>\n     </g>\n     <g id=\"text_2\">\n      <!-- 10 -->\n      <defs>\n       <path d=\"M 12.40625 8.296875 \nL 28.515625 8.296875 \nL 28.515625 63.921875 \nL 10.984375 60.40625 \nL 10.984375 69.390625 \nL 28.421875 72.90625 \nL 38.28125 72.90625 \nL 38.28125 8.296875 \nL 54.390625 8.296875 \nL 54.390625 0 \nL 12.40625 0 \nz\n\" id=\"DejaVuSans-49\"/>\n      </defs>\n      <g transform=\"translate(120.2951 239.238437)scale(0.1 -0.1)\">\n       <use xlink:href=\"#DejaVuSans-49\"/>\n       <use x=\"63.623047\" xlink:href=\"#DejaVuSans-48\"/>\n      </g>\n     </g>\n    </g>\n    <g id=\"xtick_3\">\n     <g id=\"line2d_3\">\n      <g>\n       <use style=\"stroke:#000000;stroke-width:0.8;\" x=\"188.42402\" xlink:href=\"#mccf93c4d9d\" y=\"224.64\"/>\n      </g>\n     </g>\n     <g id=\"text_3\">\n      <!-- 20 -->\n      <defs>\n       <path d=\"M 19.1875 8.296875 \nL 53.609375 8.296875 \nL 53.609375 0 \nL 7.328125 0 \nL 7.328125 8.296875 \nQ 12.9375 14.109375 22.625 23.890625 \nQ 32.328125 33.6875 34.8125 36.53125 \nQ 39.546875 41.84375 41.421875 45.53125 \nQ 43.3125 49.21875 43.3125 52.78125 \nQ 43.3125 58.59375 39.234375 62.25 \nQ 35.15625 65.921875 28.609375 65.921875 \nQ 23.96875 65.921875 18.8125 64.3125 \nQ 13.671875 62.703125 7.8125 59.421875 \nL 7.8125 69.390625 \nQ 13.765625 71.78125 18.9375 73 \nQ 24.125 74.21875 28.421875 74.21875 \nQ 39.75 74.21875 46.484375 68.546875 \nQ 53.21875 62.890625 53.21875 53.421875 \nQ 53.21875 48.921875 51.53125 44.890625 \nQ 49.859375 40.875 45.40625 35.40625 \nQ 44.1875 33.984375 37.640625 27.21875 \nQ 31.109375 20.453125 19.1875 8.296875 \nz\n\" id=\"DejaVuSans-50\"/>\n      </defs>\n      <g transform=\"translate(182.06152 239.238437)scale(0.1 -0.1)\">\n       <use xlink:href=\"#DejaVuSans-50\"/>\n       <use x=\"63.623047\" xlink:href=\"#DejaVuSans-48\"/>\n      </g>\n     </g>\n    </g>\n    <g id=\"xtick_4\">\n     <g id=\"line2d_4\">\n      <g>\n       <use style=\"stroke:#000000;stroke-width:0.8;\" x=\"250.19044\" xlink:href=\"#mccf93c4d9d\" y=\"224.64\"/>\n      </g>\n     </g>\n     <g id=\"text_4\">\n      <!-- 30 -->\n      <defs>\n       <path d=\"M 40.578125 39.3125 \nQ 47.65625 37.796875 51.625 33 \nQ 55.609375 28.21875 55.609375 21.1875 \nQ 55.609375 10.40625 48.1875 4.484375 \nQ 40.765625 -1.421875 27.09375 -1.421875 \nQ 22.515625 -1.421875 17.65625 -0.515625 \nQ 12.796875 0.390625 7.625 2.203125 \nL 7.625 11.71875 \nQ 11.71875 9.328125 16.59375 8.109375 \nQ 21.484375 6.890625 26.8125 6.890625 \nQ 36.078125 6.890625 40.9375 10.546875 \nQ 45.796875 14.203125 45.796875 21.1875 \nQ 45.796875 27.640625 41.28125 31.265625 \nQ 36.765625 34.90625 28.71875 34.90625 \nL 20.21875 34.90625 \nL 20.21875 43.015625 \nL 29.109375 43.015625 \nQ 36.375 43.015625 40.234375 45.921875 \nQ 44.09375 48.828125 44.09375 54.296875 \nQ 44.09375 59.90625 40.109375 62.90625 \nQ 36.140625 65.921875 28.71875 65.921875 \nQ 24.65625 65.921875 20.015625 65.03125 \nQ 15.375 64.15625 9.8125 62.3125 \nL 9.8125 71.09375 \nQ 15.4375 72.65625 20.34375 73.4375 \nQ 25.25 74.21875 29.59375 74.21875 \nQ 40.828125 74.21875 47.359375 69.109375 \nQ 53.90625 64.015625 53.90625 55.328125 \nQ 53.90625 49.265625 50.4375 45.09375 \nQ 46.96875 40.921875 40.578125 39.3125 \nz\n\" id=\"DejaVuSans-51\"/>\n      </defs>\n      <g transform=\"translate(243.82794 239.238437)scale(0.1 -0.1)\">\n       <use xlink:href=\"#DejaVuSans-51\"/>\n       <use x=\"63.623047\" xlink:href=\"#DejaVuSans-48\"/>\n      </g>\n     </g>\n    </g>\n    <g id=\"xtick_5\">\n     <g id=\"line2d_5\">\n      <g>\n       <use style=\"stroke:#000000;stroke-width:0.8;\" x=\"311.95686\" xlink:href=\"#mccf93c4d9d\" y=\"224.64\"/>\n      </g>\n     </g>\n     <g id=\"text_5\">\n      <!-- 40 -->\n      <defs>\n       <path d=\"M 37.796875 64.3125 \nL 12.890625 25.390625 \nL 37.796875 25.390625 \nz\nM 35.203125 72.90625 \nL 47.609375 72.90625 \nL 47.609375 25.390625 \nL 58.015625 25.390625 \nL 58.015625 17.1875 \nL 47.609375 17.1875 \nL 47.609375 0 \nL 37.796875 0 \nL 37.796875 17.1875 \nL 4.890625 17.1875 \nL 4.890625 26.703125 \nz\n\" id=\"DejaVuSans-52\"/>\n      </defs>\n      <g transform=\"translate(305.59436 239.238437)scale(0.1 -0.1)\">\n       <use xlink:href=\"#DejaVuSans-52\"/>\n       <use x=\"63.623047\" xlink:href=\"#DejaVuSans-48\"/>\n      </g>\n     </g>\n    </g>\n   </g>\n   <g id=\"matplotlib.axis_2\">\n    <g id=\"ytick_1\">\n     <g id=\"line2d_6\">\n      <defs>\n       <path d=\"M 0 0 \nL -3.5 0 \n\" id=\"m6d41fab162\" style=\"stroke:#000000;stroke-width:0.8;\"/>\n      </defs>\n      <g>\n       <use style=\"stroke:#000000;stroke-width:0.8;\" x=\"36.465625\" xlink:href=\"#m6d41fab162\" y=\"224.64\"/>\n      </g>\n     </g>\n     <g id=\"text_6\">\n      <!-- 0.00 -->\n      <defs>\n       <path d=\"M 10.6875 12.40625 \nL 21 12.40625 \nL 21 0 \nL 10.6875 0 \nz\n\" id=\"DejaVuSans-46\"/>\n      </defs>\n      <g transform=\"translate(7.2 228.439219)scale(0.1 -0.1)\">\n       <use xlink:href=\"#DejaVuSans-48\"/>\n       <use x=\"63.623047\" xlink:href=\"#DejaVuSans-46\"/>\n       <use x=\"95.410156\" xlink:href=\"#DejaVuSans-48\"/>\n       <use x=\"159.033203\" xlink:href=\"#DejaVuSans-48\"/>\n      </g>\n     </g>\n    </g>\n    <g id=\"ytick_2\">\n     <g id=\"line2d_7\">\n      <g>\n       <use style=\"stroke:#000000;stroke-width:0.8;\" x=\"36.465625\" xlink:href=\"#m6d41fab162\" y=\"195.61229\"/>\n      </g>\n     </g>\n     <g id=\"text_7\">\n      <!-- 0.02 -->\n      <g transform=\"translate(7.2 199.411509)scale(0.1 -0.1)\">\n       <use xlink:href=\"#DejaVuSans-48\"/>\n       <use x=\"63.623047\" xlink:href=\"#DejaVuSans-46\"/>\n       <use x=\"95.410156\" xlink:href=\"#DejaVuSans-48\"/>\n       <use x=\"159.033203\" xlink:href=\"#DejaVuSans-50\"/>\n      </g>\n     </g>\n    </g>\n    <g id=\"ytick_3\">\n     <g id=\"line2d_8\">\n      <g>\n       <use style=\"stroke:#000000;stroke-width:0.8;\" x=\"36.465625\" xlink:href=\"#m6d41fab162\" y=\"166.58458\"/>\n      </g>\n     </g>\n     <g id=\"text_8\">\n      <!-- 0.04 -->\n      <g transform=\"translate(7.2 170.383799)scale(0.1 -0.1)\">\n       <use xlink:href=\"#DejaVuSans-48\"/>\n       <use x=\"63.623047\" xlink:href=\"#DejaVuSans-46\"/>\n       <use x=\"95.410156\" xlink:href=\"#DejaVuSans-48\"/>\n       <use x=\"159.033203\" xlink:href=\"#DejaVuSans-52\"/>\n      </g>\n     </g>\n    </g>\n    <g id=\"ytick_4\">\n     <g id=\"line2d_9\">\n      <g>\n       <use style=\"stroke:#000000;stroke-width:0.8;\" x=\"36.465625\" xlink:href=\"#m6d41fab162\" y=\"137.55687\"/>\n      </g>\n     </g>\n     <g id=\"text_9\">\n      <!-- 0.06 -->\n      <defs>\n       <path d=\"M 33.015625 40.375 \nQ 26.375 40.375 22.484375 35.828125 \nQ 18.609375 31.296875 18.609375 23.390625 \nQ 18.609375 15.53125 22.484375 10.953125 \nQ 26.375 6.390625 33.015625 6.390625 \nQ 39.65625 6.390625 43.53125 10.953125 \nQ 47.40625 15.53125 47.40625 23.390625 \nQ 47.40625 31.296875 43.53125 35.828125 \nQ 39.65625 40.375 33.015625 40.375 \nz\nM 52.59375 71.296875 \nL 52.59375 62.3125 \nQ 48.875 64.0625 45.09375 64.984375 \nQ 41.3125 65.921875 37.59375 65.921875 \nQ 27.828125 65.921875 22.671875 59.328125 \nQ 17.53125 52.734375 16.796875 39.40625 \nQ 19.671875 43.65625 24.015625 45.921875 \nQ 28.375 48.1875 33.59375 48.1875 \nQ 44.578125 48.1875 50.953125 41.515625 \nQ 57.328125 34.859375 57.328125 23.390625 \nQ 57.328125 12.15625 50.6875 5.359375 \nQ 44.046875 -1.421875 33.015625 -1.421875 \nQ 20.359375 -1.421875 13.671875 8.265625 \nQ 6.984375 17.96875 6.984375 36.375 \nQ 6.984375 53.65625 15.1875 63.9375 \nQ 23.390625 74.21875 37.203125 74.21875 \nQ 40.921875 74.21875 44.703125 73.484375 \nQ 48.484375 72.75 52.59375 71.296875 \nz\n\" id=\"DejaVuSans-54\"/>\n      </defs>\n      <g transform=\"translate(7.2 141.356089)scale(0.1 -0.1)\">\n       <use xlink:href=\"#DejaVuSans-48\"/>\n       <use x=\"63.623047\" xlink:href=\"#DejaVuSans-46\"/>\n       <use x=\"95.410156\" xlink:href=\"#DejaVuSans-48\"/>\n       <use x=\"159.033203\" xlink:href=\"#DejaVuSans-54\"/>\n      </g>\n     </g>\n    </g>\n    <g id=\"ytick_5\">\n     <g id=\"line2d_10\">\n      <g>\n       <use style=\"stroke:#000000;stroke-width:0.8;\" x=\"36.465625\" xlink:href=\"#m6d41fab162\" y=\"108.52916\"/>\n      </g>\n     </g>\n     <g id=\"text_10\">\n      <!-- 0.08 -->\n      <defs>\n       <path d=\"M 31.78125 34.625 \nQ 24.75 34.625 20.71875 30.859375 \nQ 16.703125 27.09375 16.703125 20.515625 \nQ 16.703125 13.921875 20.71875 10.15625 \nQ 24.75 6.390625 31.78125 6.390625 \nQ 38.8125 6.390625 42.859375 10.171875 \nQ 46.921875 13.96875 46.921875 20.515625 \nQ 46.921875 27.09375 42.890625 30.859375 \nQ 38.875 34.625 31.78125 34.625 \nz\nM 21.921875 38.8125 \nQ 15.578125 40.375 12.03125 44.71875 \nQ 8.5 49.078125 8.5 55.328125 \nQ 8.5 64.0625 14.71875 69.140625 \nQ 20.953125 74.21875 31.78125 74.21875 \nQ 42.671875 74.21875 48.875 69.140625 \nQ 55.078125 64.0625 55.078125 55.328125 \nQ 55.078125 49.078125 51.53125 44.71875 \nQ 48 40.375 41.703125 38.8125 \nQ 48.828125 37.15625 52.796875 32.3125 \nQ 56.78125 27.484375 56.78125 20.515625 \nQ 56.78125 9.90625 50.3125 4.234375 \nQ 43.84375 -1.421875 31.78125 -1.421875 \nQ 19.734375 -1.421875 13.25 4.234375 \nQ 6.78125 9.90625 6.78125 20.515625 \nQ 6.78125 27.484375 10.78125 32.3125 \nQ 14.796875 37.15625 21.921875 38.8125 \nz\nM 18.3125 54.390625 \nQ 18.3125 48.734375 21.84375 45.5625 \nQ 25.390625 42.390625 31.78125 42.390625 \nQ 38.140625 42.390625 41.71875 45.5625 \nQ 45.3125 48.734375 45.3125 54.390625 \nQ 45.3125 60.0625 41.71875 63.234375 \nQ 38.140625 66.40625 31.78125 66.40625 \nQ 25.390625 66.40625 21.84375 63.234375 \nQ 18.3125 60.0625 18.3125 54.390625 \nz\n\" id=\"DejaVuSans-56\"/>\n      </defs>\n      <g transform=\"translate(7.2 112.328378)scale(0.1 -0.1)\">\n       <use xlink:href=\"#DejaVuSans-48\"/>\n       <use x=\"63.623047\" xlink:href=\"#DejaVuSans-46\"/>\n       <use x=\"95.410156\" xlink:href=\"#DejaVuSans-48\"/>\n       <use x=\"159.033203\" xlink:href=\"#DejaVuSans-56\"/>\n      </g>\n     </g>\n    </g>\n    <g id=\"ytick_6\">\n     <g id=\"line2d_11\">\n      <g>\n       <use style=\"stroke:#000000;stroke-width:0.8;\" x=\"36.465625\" xlink:href=\"#m6d41fab162\" y=\"79.50145\"/>\n      </g>\n     </g>\n     <g id=\"text_11\">\n      <!-- 0.10 -->\n      <g transform=\"translate(7.2 83.300668)scale(0.1 -0.1)\">\n       <use xlink:href=\"#DejaVuSans-48\"/>\n       <use x=\"63.623047\" xlink:href=\"#DejaVuSans-46\"/>\n       <use x=\"95.410156\" xlink:href=\"#DejaVuSans-49\"/>\n       <use x=\"159.033203\" xlink:href=\"#DejaVuSans-48\"/>\n      </g>\n     </g>\n    </g>\n    <g id=\"ytick_7\">\n     <g id=\"line2d_12\">\n      <g>\n       <use style=\"stroke:#000000;stroke-width:0.8;\" x=\"36.465625\" xlink:href=\"#m6d41fab162\" y=\"50.47374\"/>\n      </g>\n     </g>\n     <g id=\"text_12\">\n      <!-- 0.12 -->\n      <g transform=\"translate(7.2 54.272958)scale(0.1 -0.1)\">\n       <use xlink:href=\"#DejaVuSans-48\"/>\n       <use x=\"63.623047\" xlink:href=\"#DejaVuSans-46\"/>\n       <use x=\"95.410156\" xlink:href=\"#DejaVuSans-49\"/>\n       <use x=\"159.033203\" xlink:href=\"#DejaVuSans-50\"/>\n      </g>\n     </g>\n    </g>\n    <g id=\"ytick_8\">\n     <g id=\"line2d_13\">\n      <g>\n       <use style=\"stroke:#000000;stroke-width:0.8;\" x=\"36.465625\" xlink:href=\"#m6d41fab162\" y=\"21.44603\"/>\n      </g>\n     </g>\n     <g id=\"text_13\">\n      <!-- 0.14 -->\n      <g transform=\"translate(7.2 25.245248)scale(0.1 -0.1)\">\n       <use xlink:href=\"#DejaVuSans-48\"/>\n       <use x=\"63.623047\" xlink:href=\"#DejaVuSans-46\"/>\n       <use x=\"95.410156\" xlink:href=\"#DejaVuSans-49\"/>\n       <use x=\"159.033203\" xlink:href=\"#DejaVuSans-52\"/>\n      </g>\n     </g>\n    </g>\n   </g>\n   <g id=\"line2d_14\">\n    <path clip-path=\"url(#p8d3e0ac3a0)\" d=\"M 51.683807 224.417029 \nL 54.080371 223.941764 \nL 56.476935 222.680663 \nL 58.873499 219.704398 \nL 61.270063 213.450994 \nL 63.666627 201.773542 \nL 66.063191 182.477914 \nL 68.459755 154.474953 \nL 70.856319 119.189864 \nL 73.252883 81.290299 \nL 75.649447 47.762217 \nL 78.046012 25.324502 \nL 80.442576 17.554286 \nL 82.83914 23.55547 \nL 85.235704 38.923745 \nL 90.028832 76.632655 \nL 92.425396 92.007554 \nL 94.82196 103.704347 \nL 97.218524 112.46897 \nL 99.615088 119.613586 \nL 102.011652 126.389489 \nL 104.408216 133.540589 \nL 111.597908 156.369721 \nL 113.994473 163.134873 \nL 116.391037 168.987806 \nL 118.787601 173.778248 \nL 121.184165 177.478438 \nL 123.580729 180.246065 \nL 125.977293 182.399977 \nL 133.166985 187.949352 \nL 135.563549 189.658334 \nL 137.960113 191.128368 \nL 140.356677 192.326814 \nL 149.942934 196.486133 \nL 159.52919 200.924736 \nL 164.322318 203.683347 \nL 169.115446 206.585064 \nL 171.51201 207.832639 \nL 173.908574 208.846258 \nL 176.305138 209.61983 \nL 178.701702 210.199145 \nL 185.891395 211.471582 \nL 190.684523 212.393672 \nL 197.874215 214.063008 \nL 202.667343 215.141362 \nL 207.460471 215.986092 \nL 221.839855 218.2019 \nL 226.632984 218.969702 \nL 231.426112 219.506513 \nL 238.615804 220.084725 \nL 243.408932 220.723078 \nL 248.20206 221.465115 \nL 250.598624 221.739553 \nL 252.995188 221.896237 \nL 257.788316 221.9109 \nL 262.581445 221.898318 \nL 274.564265 222.275275 \nL 279.357393 222.355462 \nL 284.150521 222.753809 \nL 291.340213 223.6127 \nL 296.133342 223.850144 \nL 305.719598 223.941123 \nL 315.305854 224.318274 \nL 332.081803 224.330045 \nL 346.461187 224.594678 \nL 356.047443 224.575257 \nL 356.047443 224.575257 \n\" style=\"fill:none;stroke:#1f77b4;stroke-linecap:square;stroke-width:1.5;\"/>\n   </g>\n   <g id=\"patch_17\">\n    <path d=\"M 36.465625 224.64 \nL 36.465625 7.2 \n\" style=\"fill:none;stroke:#000000;stroke-linecap:square;stroke-linejoin:miter;stroke-width:0.8;\"/>\n   </g>\n   <g id=\"patch_18\">\n    <path d=\"M 371.265625 224.64 \nL 371.265625 7.2 \n\" style=\"fill:none;stroke:#000000;stroke-linecap:square;stroke-linejoin:miter;stroke-width:0.8;\"/>\n   </g>\n   <g id=\"patch_19\">\n    <path d=\"M 36.465625 224.64 \nL 371.265625 224.64 \n\" style=\"fill:none;stroke:#000000;stroke-linecap:square;stroke-linejoin:miter;stroke-width:0.8;\"/>\n   </g>\n   <g id=\"patch_20\">\n    <path d=\"M 36.465625 7.2 \nL 371.265625 7.2 \n\" style=\"fill:none;stroke:#000000;stroke-linecap:square;stroke-linejoin:miter;stroke-width:0.8;\"/>\n   </g>\n  </g>\n </g>\n <defs>\n  <clipPath id=\"p8d3e0ac3a0\">\n   <rect height=\"217.44\" width=\"334.8\" x=\"36.465625\" y=\"7.2\"/>\n  </clipPath>\n </defs>\n</svg>\n",
      "text/plain": [
       "<Figure size 432x288 with 1 Axes>"
      ]
     },
     "metadata": {
      "needs_background": "light"
     },
     "output_type": "display_data"
    }
   ],
   "source": [
    "# Distribution of sentences length\n",
    "\n",
    "import matplotlib.pyplot as plt\n",
    "import seaborn as sns\n",
    "num_bins=np.arange(0,45,3)\n",
    "sns.distplot(lens,bins=num_bins)\n",
    "plt.show()"
   ]
  },
  {
   "cell_type": "code",
   "execution_count": 22,
   "metadata": {},
   "outputs": [
    {
     "data": {
      "text/plain": [
       "0.02575"
      ]
     },
     "execution_count": 22,
     "metadata": {},
     "output_type": "execute_result"
    }
   ],
   "source": [
    "# Percentage of sentences less or equal than m words\n",
    "print(np.mean(lens<=1))"
   ]
  },
  {
   "cell_type": "code",
   "execution_count": 10,
   "metadata": {},
   "outputs": [],
   "source": [
    "# Load subjects indexes from train and test sets\n",
    "subj = np.array(load_verb_dataset('/afs/inf.ed.ac.uk/user/s22/s2209091/nlu/data/wiki-train.txt'))\n",
    "subj_test = np.array(load_verb_dataset('/afs/inf.ed.ac.uk/user/s22/s2209091/nlu/data/wiki-test.txt'))"
   ]
  },
  {
   "cell_type": "code",
   "execution_count": 11,
   "metadata": {},
   "outputs": [],
   "source": [
    "# Delete sentences with 1 word - Needed since we will perform the drop column feature importance method, dropping one word\n",
    "\n",
    "X_train_drop = X_train[:]\n",
    "Y_train_drop = Y_train[:]\n",
    "ind_to_drop = np.zeros(len(X_train))\n",
    "for i,j in enumerate(X_train_drop):\n",
    "    if len(j)==1:\n",
    "        ind_to_drop[i] = i\n",
    "\n",
    "X_train_drop=np.delete(X_train_drop,ind_to_drop)\n",
    "Y_train_drop=np.delete(Y_train_drop,ind_to_drop)\n",
    "subj=np.delete(subj,ind_to_drop)\n",
    "\n",
    "X_test_drop = X_test[:]\n",
    "Y_test_drop = Y_test[:]\n",
    "ind_to_drop = np.zeros(len(X_test))\n",
    "\n",
    "for i,j in enumerate(X_test_drop):\n",
    "    if len(j)==1:\n",
    "        ind_to_drop[i] = i\n",
    "\n",
    "X_test_drop=np.delete(X_test_drop,ind_to_drop)\n",
    "Y_test_drop=np.delete(Y_test_drop,ind_to_drop)\n",
    "\n",
    "subj_test=np.delete(subj_test,ind_to_drop)"
   ]
  },
  {
   "cell_type": "code",
   "execution_count": 12,
   "metadata": {},
   "outputs": [],
   "source": [
    "# Padding sentences to max length found earlier\n",
    "\n",
    "max_length = 46\n",
    "padded_X_drop = pad_sequences(X_train_drop, maxlen=max_length, padding='post')\n",
    "padded_X_test_drop = pad_sequences(X_test_drop, maxlen=max_length, padding='post')"
   ]
  },
  {
   "cell_type": "code",
   "execution_count": 13,
   "metadata": {},
   "outputs": [],
   "source": [
    "# Deletion of subject word for each sentence for both training and test set\n",
    "new_padded_X_drop=[]\n",
    "for i,sen in enumerate(padded_X_drop):\n",
    "    new_padded_X_drop.append(np.delete(sen,subj[i]))\n",
    "\n",
    "\n",
    "new_padded_X_test_drop=[]\n",
    "for i,sen in enumerate(padded_X_test_drop):\n",
    "    new_padded_X_test_drop.append(np.delete(sen,subj_test[i]))"
   ]
  },
  {
   "cell_type": "code",
   "execution_count": 16,
   "metadata": {
    "tags": []
   },
   "outputs": [
    {
     "name": "stdout",
     "output_type": "stream",
     "text": [
      "Epoch 1/10\n",
      "24353/24353 [==============================] - 16s 677us/step - loss: 0.5078 - accuracy: 0.7710\n",
      "Epoch 2/10\n",
      "24353/24353 [==============================] - 16s 642us/step - loss: 0.4654 - accuracy: 0.8002\n",
      "Epoch 3/10\n",
      "24353/24353 [==============================] - 15s 626us/step - loss: 0.4545 - accuracy: 0.8085\n",
      "Epoch 4/10\n",
      "24353/24353 [==============================] - 16s 650us/step - loss: 0.4494 - accuracy: 0.8139\n",
      "Epoch 5/10\n",
      "24353/24353 [==============================] - 16s 643us/step - loss: 0.4461 - accuracy: 0.8165\n",
      "Epoch 6/10\n",
      "24353/24353 [==============================] - 16s 646us/step - loss: 0.4468 - accuracy: 0.8164\n",
      "Epoch 7/10\n",
      "24353/24353 [==============================] - 17s 680us/step - loss: 0.4418 - accuracy: 0.8192\n",
      "Epoch 8/10\n",
      "24353/24353 [==============================] - 16s 645us/step - loss: 0.4394 - accuracy: 0.8206\n",
      "Epoch 9/10\n",
      "24353/24353 [==============================] - 17s 708us/step - loss: 0.4376 - accuracy: 0.8224\n",
      "Epoch 10/10\n",
      "24353/24353 [==============================] - 16s 648us/step - loss: 0.4364 - accuracy: 0.8236\n",
      "Simulation:  9  -- Test accuracy:  0.6105\n"
     ]
    }
   ],
   "source": [
    "# Simulations for first feature importance experiment> dropping the subject\n",
    "\n",
    "sims=10\n",
    "\n",
    "for i in range(sims):\n",
    "    seed(42+i)\n",
    "\n",
    "    tf.random.set_seed(42+i)\n",
    "    keras.backend.clear_session()\n",
    "\n",
    "    model = keras.Sequential()\n",
    "    model.add(keras.layers.Embedding(vocab_size, 64, input_length=45))\n",
    "    model.add(keras.layers.SimpleRNN(1,return_sequences=True,name='rnn'))\n",
    "    model.add(keras.layers.Flatten())\n",
    "    model.add(keras.layers.Dense(1,activation='sigmoid'))\n",
    "    model.compile('adam', 'binary_crossentropy',metrics=['accuracy'])\n",
    "\n",
    "\n",
    "    model.fit(np.array(new_padded_X_drop), Y_train_drop, epochs=10, verbose=1)\n",
    "    predictions=(model.predict(np.array(new_padded_X_test_drop))>0.5)\n",
    "\n",
    "    corrects=(predictions==Y_test_drop)\n",
    "    print('Simulation: ',i,' -- Test accuracy: ',round(np.mean(corrects),4))"
   ]
  },
  {
   "cell_type": "code",
   "execution_count": 14,
   "metadata": {
    "tags": []
   },
   "outputs": [
    {
     "name": "stdout",
     "output_type": "stream",
     "text": [
      "Starting with simulation  9\n",
      "2022-02-14 15:34:24.842873: I tensorflow/core/platform/cpu_feature_guard.cc:145] This TensorFlow binary is optimized with Intel(R) MKL-DNN to use the following CPU instructions in performance critical operations:  SSE4.1 SSE4.2 AVX AVX2 FMA\n",
      "To enable them in non-MKL-DNN operations, rebuild TensorFlow with the appropriate compiler flags.\n",
      "2022-02-14 15:34:24.870844: I tensorflow/core/platform/profile_utils/cpu_utils.cc:94] CPU Frequency: 3199980000 Hz\n",
      "2022-02-14 15:34:24.871084: I tensorflow/compiler/xla/service/service.cc:168] XLA service 0x55e0e7d95fe0 executing computations on platform Host. Devices:\n",
      "2022-02-14 15:34:24.871099: I tensorflow/compiler/xla/service/service.cc:175]   StreamExecutor device (0): Host, Default Version\n",
      "2022-02-14 15:34:24.873270: I tensorflow/core/common_runtime/process_util.cc:115] Creating new thread pool with default inter op setting: 2. Tune using inter_op_parallelism_threads for best performance.\n",
      "Epoch 1/10\n",
      "24353/24353 [==============================] - 21s 879us/step - loss: 0.4641 - accuracy: 0.7880\n",
      "Epoch 2/10\n",
      "24353/24353 [==============================] - 18s 759us/step - loss: 0.3837 - accuracy: 0.8285\n",
      "Epoch 3/10\n",
      "24353/24353 [==============================] - 16s 671us/step - loss: 0.3701 - accuracy: 0.8373\n",
      "Epoch 4/10\n",
      "24353/24353 [==============================] - 17s 701us/step - loss: 0.3615 - accuracy: 0.8422\n",
      "Epoch 5/10\n",
      "24353/24353 [==============================] - 17s 685us/step - loss: 0.3578 - accuracy: 0.8434\n",
      "Epoch 6/10\n",
      "24353/24353 [==============================] - 18s 728us/step - loss: 0.3545 - accuracy: 0.8448\n",
      "Epoch 7/10\n",
      "24353/24353 [==============================] - 18s 745us/step - loss: 0.3504 - accuracy: 0.8479\n",
      "Epoch 8/10\n",
      "24353/24353 [==============================] - 17s 688us/step - loss: 0.3497 - accuracy: 0.8460\n",
      "Epoch 9/10\n",
      "24353/24353 [==============================] - 16s 660us/step - loss: 0.3480 - accuracy: 0.8468\n",
      "Epoch 10/10\n",
      "24353/24353 [==============================] - 15s 605us/step - loss: 0.3453 - accuracy: 0.8479\n",
      "Simulation:  3895  -- Test accuracy:  0.5971\n"
     ]
    }
   ],
   "source": [
    "# Simulations to drop word randomly for words different than subject\n",
    "sims=10\n",
    "acc = np.zeros(sims)\n",
    "\n",
    "sent_len_tr = np.zeros(len(X_train_drop))\n",
    "for i,sent in enumerate(X_train_drop):\n",
    "    sent_len_tr[i]=len(sent)\n",
    "\n",
    "sent_len_te = np.zeros(len(X_test_drop))\n",
    "for i,sent in enumerate(X_test_drop):\n",
    "    sent_len_te[i]=len(sent)\n",
    "\n",
    "new_padded_X_drop=[]\n",
    "\n",
    "for i,sen in enumerate(padded_X_drop):\n",
    "    indx=np.arange(0,sent_len_tr[i])\n",
    "    indx = np.random.choice(indx[indx != subj[i]])\n",
    "    new_padded_X_drop.append(np.delete(sen,indx))\n",
    "\n",
    "new_padded_X_test_drop=[]\n",
    "for i,sen in enumerate(padded_X_test_drop):\n",
    "    indx=np.arange(0,sent_len_te[i])\n",
    "    indx = np.random.choice(indx[indx != subj_test[i]])\n",
    "    new_padded_X_test_drop.append(np.delete(sen,indx))\n",
    "\n",
    "for s in range(sims):\n",
    "    seed(42+s)\n",
    "\n",
    "    tf.random.set_seed(42+s)\n",
    "    print('Starting with simulation ',s)\n",
    "    #new_padded_X_drop=[]\n",
    "\n",
    "\n",
    "    keras.backend.clear_session()\n",
    "    model = keras.Sequential()\n",
    "    model.add(keras.layers.Embedding(vocab_size, 64, input_length=45))\n",
    "    model.add(keras.layers.SimpleRNN(1,return_sequences=True,name='rnn'))\n",
    "    model.add(keras.layers.Flatten())\n",
    "    model.add(keras.layers.Dense(1,activation='sigmoid'))\n",
    "    model.compile('adam', 'binary_crossentropy',metrics=['accuracy'])\n",
    "\n",
    "    model.fit(np.array(new_padded_X_drop), Y_train_drop, epochs=10, verbose=1)\n",
    "\n",
    "    predictions=(model.predict(np.array(new_padded_X_test_drop))>0.5)\n",
    "    corrects=(predictions==Y_test_drop)\n",
    "    acc[s]=np.mean(corrects)\n",
    "    print('Simulation: ',s,' -- Test accuracy: ',round(acc[s],4))    "
   ]
  }
 ],
 "metadata": {
  "kernelspec": {
   "display_name": "Python 3 (ipykernel)",
   "language": "python",
   "name": "python3"
  },
  "language_info": {
   "codemirror_mode": {
    "name": "ipython",
    "version": 3
   },
   "file_extension": ".py",
   "mimetype": "text/x-python",
   "name": "python",
   "nbconvert_exporter": "python",
   "pygments_lexer": "ipython3",
   "version": "3.7.5"
  }
 },
 "nbformat": 4,
 "nbformat_minor": 2
}
